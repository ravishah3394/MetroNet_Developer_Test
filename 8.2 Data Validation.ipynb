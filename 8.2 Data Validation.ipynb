{
 "cells": [
  {
   "cell_type": "code",
   "execution_count": 1,
   "metadata": {},
   "outputs": [],
   "source": [
    "import pandas as pd"
   ]
  },
  {
   "cell_type": "code",
   "execution_count": 2,
   "metadata": {},
   "outputs": [],
   "source": [
    "#read the JSON file\n",
    "data = pd.read_json(\"data.json\")"
   ]
  },
  {
   "cell_type": "code",
   "execution_count": 3,
   "metadata": {},
   "outputs": [],
   "source": [
    "#validate email using regex\n",
    "data[\"email_validation\"]=data['emailAddress'].str.contains(r'[^@]+@[^@]+\\.[^@]+')"
   ]
  },
  {
   "cell_type": "code",
   "execution_count": 4,
   "metadata": {},
   "outputs": [
    {
     "name": "stderr",
     "output_type": "stream",
     "text": [
      "c:\\users\\mishk\\appdata\\local\\programs\\python\\python36\\lib\\site-packages\\pandas\\core\\strings.py:1843: UserWarning: This pattern has match groups. To actually get the groups, use str.extract.\n",
      "  return func(self, *args, **kwargs)\n"
     ]
    }
   ],
   "source": [
    "#validate phone using regex\n",
    "data[\"phone_validation\"]=data['phoneNumber'].str.contains(r'^[2-9]\\d{2}(-|\\s)\\d{3}(-|\\s)\\d{4}$')"
   ]
  },
  {
   "cell_type": "code",
   "execution_count": 5,
   "metadata": {},
   "outputs": [],
   "source": [
    "#to count the validation errors\n",
    "data[\"validation_error\"] = (data['email_validation']==False) | (data['phone_validation']==False)"
   ]
  },
  {
   "cell_type": "code",
   "execution_count": 6,
   "metadata": {},
   "outputs": [],
   "source": [
    "#sort data by alphabetical order\n",
    "data = data.sort_values([\"fullName\"])"
   ]
  },
  {
   "cell_type": "code",
   "execution_count": 7,
   "metadata": {},
   "outputs": [],
   "source": [
    "output = pd.DataFrame(data.groupby([\"cityName\",\"validation_error\"]).size())"
   ]
  },
  {
   "cell_type": "code",
   "execution_count": 8,
   "metadata": {},
   "outputs": [],
   "source": [
    "output.columns=[\"count\"]"
   ]
  },
  {
   "cell_type": "code",
   "execution_count": 9,
   "metadata": {},
   "outputs": [
    {
     "data": {
      "text/html": [
       "<div>\n",
       "<style scoped>\n",
       "    .dataframe tbody tr th:only-of-type {\n",
       "        vertical-align: middle;\n",
       "    }\n",
       "\n",
       "    .dataframe tbody tr th {\n",
       "        vertical-align: top;\n",
       "    }\n",
       "\n",
       "    .dataframe thead th {\n",
       "        text-align: right;\n",
       "    }\n",
       "</style>\n",
       "<table border=\"1\" class=\"dataframe\">\n",
       "  <thead>\n",
       "    <tr style=\"text-align: right;\">\n",
       "      <th></th>\n",
       "      <th></th>\n",
       "      <th>count</th>\n",
       "    </tr>\n",
       "    <tr>\n",
       "      <th>cityName</th>\n",
       "      <th>validation_error</th>\n",
       "      <th></th>\n",
       "    </tr>\n",
       "  </thead>\n",
       "  <tbody>\n",
       "    <tr>\n",
       "      <td rowspan=\"2\" valign=\"top\">Chicago</td>\n",
       "      <td>False</td>\n",
       "      <td>2</td>\n",
       "    </tr>\n",
       "    <tr>\n",
       "      <td>True</td>\n",
       "      <td>2</td>\n",
       "    </tr>\n",
       "    <tr>\n",
       "      <td rowspan=\"2\" valign=\"top\">Evansville</td>\n",
       "      <td>False</td>\n",
       "      <td>2</td>\n",
       "    </tr>\n",
       "    <tr>\n",
       "      <td>True</td>\n",
       "      <td>2</td>\n",
       "    </tr>\n",
       "    <tr>\n",
       "      <td rowspan=\"2\" valign=\"top\">Kansas City</td>\n",
       "      <td>False</td>\n",
       "      <td>1</td>\n",
       "    </tr>\n",
       "    <tr>\n",
       "      <td>True</td>\n",
       "      <td>2</td>\n",
       "    </tr>\n",
       "    <tr>\n",
       "      <td rowspan=\"2\" valign=\"top\">New York</td>\n",
       "      <td>False</td>\n",
       "      <td>2</td>\n",
       "    </tr>\n",
       "    <tr>\n",
       "      <td>True</td>\n",
       "      <td>1</td>\n",
       "    </tr>\n",
       "    <tr>\n",
       "      <td rowspan=\"2\" valign=\"top\">San Franscico</td>\n",
       "      <td>False</td>\n",
       "      <td>2</td>\n",
       "    </tr>\n",
       "    <tr>\n",
       "      <td>True</td>\n",
       "      <td>1</td>\n",
       "    </tr>\n",
       "    <tr>\n",
       "      <td>Seattle</td>\n",
       "      <td>False</td>\n",
       "      <td>3</td>\n",
       "    </tr>\n",
       "  </tbody>\n",
       "</table>\n",
       "</div>"
      ],
      "text/plain": [
       "                                count\n",
       "cityName      validation_error       \n",
       "Chicago       False                 2\n",
       "              True                  2\n",
       "Evansville    False                 2\n",
       "              True                  2\n",
       "Kansas City   False                 1\n",
       "              True                  2\n",
       "New York      False                 2\n",
       "              True                  1\n",
       "San Franscico False                 2\n",
       "              True                  1\n",
       "Seattle       False                 3"
      ]
     },
     "execution_count": 9,
     "metadata": {},
     "output_type": "execute_result"
    }
   ],
   "source": [
    "#required results\n",
    "output"
   ]
  },
  {
   "cell_type": "code",
   "execution_count": 10,
   "metadata": {},
   "outputs": [
    {
     "name": "stdout",
     "output_type": "stream",
     "text": [
      "Abigail Rodriguez\n",
      "Phone is invalid\n",
      "\n",
      "Amelia Davis\n",
      "Valid\n",
      "\n",
      "Benjamin Hermandez\n",
      "Valid\n",
      "\n",
      "Charlotte Miller\n",
      "Valid\n",
      "\n",
      "Elijah Martin\n",
      "Email and phone are invalid\n",
      "\n",
      "Emma Smith\n",
      "Phone is invalid\n",
      "\n",
      "Evelyn Garcia\n",
      "Valid\n",
      "\n",
      "Isabella Williams\n",
      "Valid\n",
      "\n",
      "Jacob Thompson\n",
      "Valid\n",
      "\n",
      "James Taylor\n",
      "Email is invalid\n",
      "\n",
      "James White\n",
      "Valid\n",
      "\n",
      "Liam Martinez\n",
      "Email is invalid\n",
      "\n",
      "Logan Thomas\n",
      "Email and phone are invalid\n",
      "\n",
      "Mary Wilson\n",
      "Email and phone are invalid\n",
      "\n",
      "Mason Moore\n",
      "Valid\n",
      "\n",
      "Oliver Jackson\n",
      "Phone is invalid\n",
      "\n",
      "Olivia Johnson\n",
      "Valid\n",
      "\n",
      "Sophia Brown\n",
      "Valid\n",
      "\n",
      "Taylor Jones\n",
      "Valid\n",
      "\n",
      "William Anderson\n",
      "Valid\n",
      "\n"
     ]
    }
   ],
   "source": [
    "#required outputs\n",
    "for row in data.itertuples():\n",
    "    print (row.fullName)\n",
    "    \n",
    "    if row.email_validation and row.phone_validation:\n",
    "        print(\"Valid\")\n",
    "        print()\n",
    "        continue\n",
    "                                               \n",
    "    if not row.email_validation and not row.phone_validation:\n",
    "        print(\"Email and phone are invalid\")\n",
    "        print()\n",
    "        continue\n",
    "        \n",
    "    if not row.email_validation:\n",
    "        print (\"Email is invalid\")\n",
    "        print()\n",
    "    if not row.phone_validation:\n",
    "        print(\"Phone is invalid\")\n",
    "        print()\n",
    "  \n",
    "    "
   ]
  },
  {
   "cell_type": "code",
   "execution_count": null,
   "metadata": {},
   "outputs": [],
   "source": []
  }
 ],
 "metadata": {
  "kernelspec": {
   "display_name": "Python 3",
   "language": "python",
   "name": "python3"
  },
  "language_info": {
   "codemirror_mode": {
    "name": "ipython",
    "version": 3
   },
   "file_extension": ".py",
   "mimetype": "text/x-python",
   "name": "python",
   "nbconvert_exporter": "python",
   "pygments_lexer": "ipython3",
   "version": "3.6.8"
  }
 },
 "nbformat": 4,
 "nbformat_minor": 2
}
