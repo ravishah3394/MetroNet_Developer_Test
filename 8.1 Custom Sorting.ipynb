{
 "cells": [
  {
   "cell_type": "code",
   "execution_count": 1,
   "metadata": {},
   "outputs": [],
   "source": [
    "import pandas as pd"
   ]
  },
  {
   "cell_type": "code",
   "execution_count": 2,
   "metadata": {},
   "outputs": [],
   "source": [
    "#datastructures to represent cards and hands \n",
    "class Card():\n",
    "    def __init__(self,suit,value):\n",
    "        self.suit = suit\n",
    "        self.value = value\n",
    "\n",
    "class Hand():\n",
    "    def __init__(self):\n",
    "        self.cards = []\n",
    "        \n",
    "    def append(self,Card):\n",
    "        self.cards.append(Card)\n",
    "    \n",
    "    def print_hand(self):\n",
    "        for card in self.cards:\n",
    "            print (card.suit,card.value)\n",
    "        "
   ]
  },
  {
   "cell_type": "code",
   "execution_count": 3,
   "metadata": {},
   "outputs": [],
   "source": [
    "def sort_cards(hand,asc = True):\n",
    "    \n",
    "    df_hand = pd.DataFrame()\n",
    "    \n",
    "    #maps to convert values and suits to camparible values\n",
    "    value_map = {\"A\":14,\"J\":11,\"Q\":12,\"K\":13,\n",
    "                 \"1\":1,\"2\":2,\"3\":3,\"4\":4,\"5\":4,\n",
    "                 \"6\":6,\"7\":7,\"8\":8,\"9\":9,\"10\":10}\n",
    "    \n",
    "    suit_map = {\"hearts\":1,\"diamonds\":2,\n",
    "                \"clubs\":3,\"spades\":4}\n",
    "    \n",
    "    for card in hand.cards:\n",
    "        df_hand = df_hand.append({'suit' : card.suit,\n",
    "                                  \"suit_map\":suit_map[card.suit] ,\n",
    "                                  \"value\":card.value, \n",
    "                                  'value_map' : value_map[card.value]} , ignore_index=True)\n",
    "    \n",
    "    #logic for ascending and descending order  \n",
    "    if not asc:\n",
    "        df_hand = df_hand.sort_values(by=['value_map', 'suit_map'],ascending=False)\n",
    "    else:\n",
    "        df_hand = df_hand.sort_values(by=['value_map', 'suit_map'])\n",
    "    \n",
    "    sorted_hand = Hand()\n",
    "    for card in df_hand.itertuples():\n",
    "        sorted_hand.append(Card(card.suit,card.value))\n",
    "    \n",
    "    return sorted_hand"
   ]
  },
  {
   "cell_type": "code",
   "execution_count": 4,
   "metadata": {},
   "outputs": [],
   "source": [
    "#example of a hand\n",
    "#creating an empty hand\n",
    "hand = Hand()\n",
    "\n",
    "#appendig cards to hand\n",
    "hand.append(Card(\"diamonds\",\"1\"))\n",
    "hand.append(Card(\"diamonds\",\"2\"))\n",
    "hand.append(Card(\"diamonds\",\"A\"))\n",
    "hand.append(Card(\"diamonds\",\"J\"))\n",
    "hand.append(Card(\"spades\",\"K\"))\n",
    "hand.append(Card(\"spades\",\"Q\"))\n",
    "hand.append(Card(\"spades\",\"10\"))\n",
    "hand.append(Card(\"spades\",\"3\"))\n",
    "hand.append(Card(\"clubs\",\"4\"))\n",
    "hand.append(Card(\"clubs\",\"Q\"))\n",
    "hand.append(Card(\"clubs\",\"J\"))\n",
    "hand.append(Card(\"clubs\",\"A\"))\n",
    "hand.append(Card(\"hearts\",\"A\"))\n",
    "hand.append(Card(\"hearts\",\"6\"))\n"
   ]
  },
  {
   "cell_type": "code",
   "execution_count": 5,
   "metadata": {},
   "outputs": [
    {
     "name": "stdout",
     "output_type": "stream",
     "text": [
      "diamonds 1\n",
      "diamonds 2\n",
      "diamonds A\n",
      "diamonds J\n",
      "spades K\n",
      "spades Q\n",
      "spades 10\n",
      "spades 3\n",
      "clubs 4\n",
      "clubs Q\n",
      "clubs J\n",
      "clubs A\n",
      "hearts A\n",
      "hearts 6\n"
     ]
    }
   ],
   "source": [
    "#before sorting\n",
    "hand.print_hand()"
   ]
  },
  {
   "cell_type": "code",
   "execution_count": 6,
   "metadata": {},
   "outputs": [
    {
     "name": "stdout",
     "output_type": "stream",
     "text": [
      "clubs A\n",
      "diamonds A\n",
      "hearts A\n",
      "spades K\n",
      "spades Q\n",
      "clubs Q\n",
      "clubs J\n",
      "diamonds J\n",
      "spades 10\n",
      "hearts 6\n",
      "clubs 4\n",
      "spades 3\n",
      "diamonds 2\n",
      "diamonds 1\n"
     ]
    }
   ],
   "source": [
    "#sorted hand in descendig order\n",
    "sorted_hand = sort_cards(hand,asc = False)\n",
    "sorted_hand.print_hand()"
   ]
  },
  {
   "cell_type": "code",
   "execution_count": 7,
   "metadata": {},
   "outputs": [
    {
     "name": "stdout",
     "output_type": "stream",
     "text": [
      "diamonds 1\n",
      "diamonds 2\n",
      "spades 3\n",
      "clubs 4\n",
      "hearts 6\n",
      "spades 10\n",
      "diamonds J\n",
      "clubs J\n",
      "clubs Q\n",
      "spades Q\n",
      "spades K\n",
      "hearts A\n",
      "diamonds A\n",
      "clubs A\n"
     ]
    }
   ],
   "source": [
    "#sorted hand in ascendig order\n",
    "sorted_hand_asc = sort_cards(hand)\n",
    "sorted_hand_asc.print_hand()"
   ]
  },
  {
   "cell_type": "code",
   "execution_count": null,
   "metadata": {},
   "outputs": [],
   "source": []
  }
 ],
 "metadata": {
  "kernelspec": {
   "display_name": "Python 3",
   "language": "python",
   "name": "python3"
  },
  "language_info": {
   "codemirror_mode": {
    "name": "ipython",
    "version": 3
   },
   "file_extension": ".py",
   "mimetype": "text/x-python",
   "name": "python",
   "nbconvert_exporter": "python",
   "pygments_lexer": "ipython3",
   "version": "3.6.8"
  }
 },
 "nbformat": 4,
 "nbformat_minor": 2
}
