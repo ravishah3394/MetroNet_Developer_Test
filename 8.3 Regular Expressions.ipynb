{
 "cells": [
  {
   "cell_type": "code",
   "execution_count": 1,
   "metadata": {},
   "outputs": [],
   "source": [
    "import re"
   ]
  },
  {
   "cell_type": "code",
   "execution_count": 2,
   "metadata": {},
   "outputs": [],
   "source": [
    "class TimeStamp():\n",
    "    def __init__(self):\n",
    "        self.year = None\n",
    "        self.month = None\n",
    "        self.day = None\n",
    "        self.hour = None\n",
    "        self.minute = None\n",
    "        self.second = None"
   ]
  },
  {
   "cell_type": "code",
   "execution_count": 3,
   "metadata": {},
   "outputs": [],
   "source": [
    "#pattern to extract time stamps with date and time or date only\n",
    "pattern = r'[0-9]{4}[-/][0-9]{2}[-/][/0-9]{2}(?:\\s|T[0-9]{2}:[0-9]{2}:[0-9]{2}Z)'"
   ]
  },
  {
   "cell_type": "code",
   "execution_count": 4,
   "metadata": {},
   "outputs": [],
   "source": [
    "#test input\n",
    "string = \"\"\"With timestamps:\n",
    "1. 2014-08-18T13:03:25Z\n",
    "2. 2014/08/18T13:03:25Z 2014/08/18T13:03:25Z2014/08/18T13:03:25Z 2014/08/18T13:03:25Z2014/08/18T13:03:25Z2014/08/18T13:03:25Z2014/08/18T13:03:25Z\n",
    "Without timestamps:\n",
    "1. 2015-08-18 \n",
    "2. 2015/08/18 Without timestamps:\n",
    "1. 2015-08-18 \n",
    "2. 2015/08/18 Without timestamps:\n",
    "1. 2015-08-18 \n",
    "\"\"\""
   ]
  },
  {
   "cell_type": "code",
   "execution_count": 5,
   "metadata": {},
   "outputs": [],
   "source": [
    "matches = re.findall(pattern,string)"
   ]
  },
  {
   "cell_type": "code",
   "execution_count": 6,
   "metadata": {},
   "outputs": [
    {
     "name": "stdout",
     "output_type": "stream",
     "text": [
      "['2014', '08', '18', '13', '03', '25']\n",
      "['2014', '08', '18', '13', '03', '25']\n",
      "['2014', '08', '18', '13', '03', '25']\n",
      "['2014', '08', '18', '13', '03', '25']\n",
      "['2014', '08', '18', '13', '03', '25']\n",
      "['2014', '08', '18', '13', '03', '25']\n",
      "['2014', '08', '18', '13', '03', '25']\n",
      "['2014', '08', '18', '13', '03', '25']\n",
      "['2015', '08', '18']\n",
      "['2015', '08', '18']\n",
      "['2015', '08', '18']\n",
      "['2015', '08', '18']\n",
      "['2015', '08', '18']\n"
     ]
    }
   ],
   "source": [
    "#extracting yar,month,day and if available hour,minute,second \n",
    "extracted_data = []\n",
    "for match in matches:\n",
    "    temp = re.sub(r\"\\D\",\" \",match)\n",
    "    temp = temp.split()\n",
    "    print(temp)\n",
    "    ts = TimeStamp()\n",
    "    ts.year =  temp[0]\n",
    "    ts.month = temp[1]\n",
    "    ts.day = temp[2]\n",
    "    if len(temp)>3:\n",
    "        ts.hour = temp[3]\n",
    "        ts.minute = temp[4]\n",
    "        ts.second = temp[5]\n",
    "    extracted_data.append(ts)"
   ]
  }
 ],
 "metadata": {
  "kernelspec": {
   "display_name": "Python 3",
   "language": "python",
   "name": "python3"
  },
  "language_info": {
   "codemirror_mode": {
    "name": "ipython",
    "version": 3
   },
   "file_extension": ".py",
   "mimetype": "text/x-python",
   "name": "python",
   "nbconvert_exporter": "python",
   "pygments_lexer": "ipython3",
   "version": "3.6.8"
  }
 },
 "nbformat": 4,
 "nbformat_minor": 2
}
